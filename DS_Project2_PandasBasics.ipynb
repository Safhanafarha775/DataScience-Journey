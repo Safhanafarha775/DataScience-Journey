{
  "nbformat": 4,
  "nbformat_minor": 0,
  "metadata": {
    "colab": {
      "provenance": [],
      "authorship_tag": "ABX9TyNSD3AUKUAZFOidGVR/cA8z",
      "include_colab_link": true
    },
    "kernelspec": {
      "name": "python3",
      "display_name": "Python 3"
    },
    "language_info": {
      "name": "python"
    }
  },
  "cells": [
    {
      "cell_type": "markdown",
      "metadata": {
        "id": "view-in-github",
        "colab_type": "text"
      },
      "source": [
        "<a href=\"https://colab.research.google.com/github/Safhanafarha775/DataScience-Journey/blob/main/DS_Project2_PandasBasics.ipynb\" target=\"_parent\"><img src=\"https://colab.research.google.com/assets/colab-badge.svg\" alt=\"Open In Colab\"/></a>"
      ]
    },
    {
      "cell_type": "code",
      "source": [
        "#Age related BMI Calculator\n",
        "\n",
        "#AGE CALCULATOR\n",
        "\n",
        "from datetime import date\n",
        "\n",
        "def calculate_age(birthdate):\n",
        "    today = date.today()\n",
        "    age = today.year - birthdate.year\n",
        "\n",
        "    # Adjust if birthday hasn't occurred yet this year\n",
        "    if (today.month, today.day) < (birthdate.month, birthdate.day):\n",
        "        age -= 1\n",
        "    return age"
      ],
      "metadata": {
        "id": "v5fR6wKB7vYV"
      },
      "execution_count": 3,
      "outputs": []
    },
    {
      "cell_type": "code",
      "source": [
        "#calculating BMI\n",
        "def calculate_bmi(h, w, age):\n",
        "    h_in_m = float(h / 100)\n",
        "    bmi = w / (h_in_m ** 2)   # correct formula\n",
        "\n",
        "    # Check age group\n",
        "    if age >= 20:\n",
        "        # Adult BMI classification\n",
        "        if bmi < 18.5:\n",
        "            status = \"Underweight\"\n",
        "        elif 18.5 <= bmi < 24.9:\n",
        "            status = \"Normal weight\"\n",
        "        elif 24.9 <= bmi < 29.9:\n",
        "            status = \"Overweight\"\n",
        "        else:\n",
        "            status = \"Obese\"\n",
        "    else:\n",
        "        # Children/teen BMI interpretation (simplified)\n",
        "        if bmi < 5:\n",
        "            status = \"Underweight (percentile)\"\n",
        "        elif 5 <= bmi < 85:\n",
        "            status = \"Healthy (percentile)\"\n",
        "        elif 85 <= bmi < 95:\n",
        "            status = \"Overweight (percentile)\"\n",
        "        else:\n",
        "            status = \"Obese (percentile)\"\n",
        "\n",
        "    return bmi, status"
      ],
      "metadata": {
        "id": "mzZld3FPNCvM"
      },
      "execution_count": null,
      "outputs": []
    },
    {
      "cell_type": "code",
      "source": [
        "# Taking inputs\n",
        "weight = float(input(\"Enter your weight in kgs: \"))\n",
        "height = float(input(\"Enter your height in cms: \"))\n",
        "\n",
        "# Take dob from user\n",
        "dob_input = input(\"Enter your Date of Birth in dd/mm/yyyy format: \")\n",
        "\n",
        "# Split input and convert to integers\n",
        "day, month, year = map(int, dob_input.split('/'))\n",
        "dob = date(year, month, day)\n",
        "\n",
        "age=calculate_age(dob)"
      ],
      "metadata": {
        "id": "_7VkS2nGNG2C"
      },
      "execution_count": null,
      "outputs": []
    },
    {
      "cell_type": "code",
      "source": [
        "bmi, status = calculate_bmi(height, weight, age)\n",
        "\n",
        "print(f\"\\nYour BMI = {bmi:.2f}\")\n",
        "print(f\"Status = {status}\")"
      ],
      "metadata": {
        "id": "ioN8SQ4uNKGL"
      },
      "execution_count": null,
      "outputs": []
    },
    {
      "cell_type": "markdown",
      "source": [
        "Step 1 : Create a small DataFrame"
      ],
      "metadata": {
        "id": "JRozHzH0Nh9T"
      }
    },
    {
      "cell_type": "code",
      "source": [
        "import pandas as pd"
      ],
      "metadata": {
        "id": "smiN5wE9NPBS"
      },
      "execution_count": 4,
      "outputs": []
    },
    {
      "cell_type": "code",
      "source": [
        "data= {\"Name\":[\"Ali\",\"Sara\",\"John\"],\"Age\":[25,30,22],\"City\":[\"Delhi\",\"Mumbai\",\"Chennai\"]}\n",
        "df=pd.DataFrame(data)\n",
        "print(\"Initial DataFrame : \",df)"
      ],
      "metadata": {
        "colab": {
          "base_uri": "https://localhost:8080/"
        },
        "id": "KUWI8eVHNP56",
        "outputId": "8adc5880-4d0b-469c-9443-fbc74f4e873b"
      },
      "execution_count": 5,
      "outputs": [
        {
          "output_type": "stream",
          "name": "stdout",
          "text": [
            "Initial DataFrame :     Name  Age     City\n",
            "0   Ali   25    Delhi\n",
            "1  Sara   30   Mumbai\n",
            "2  John   22  Chennai\n"
          ]
        }
      ]
    },
    {
      "cell_type": "markdown",
      "source": [
        "Step 2 : Add New Column"
      ],
      "metadata": {
        "id": "phoze-qoNtAM"
      }
    },
    {
      "cell_type": "code",
      "source": [
        "df[\"Salary\"]=[50000,38000,42000]\n",
        "print(\"\\n After adding Salary Column : \")\n",
        "print(df)"
      ],
      "metadata": {
        "colab": {
          "base_uri": "https://localhost:8080/"
        },
        "id": "0mgjeEklNyAq",
        "outputId": "3818a251-c119-41a5-eba3-978658e75977"
      },
      "execution_count": 7,
      "outputs": [
        {
          "output_type": "stream",
          "name": "stdout",
          "text": [
            "\n",
            " After adding Salary Column : \n",
            "   Name  Age     City  Salary\n",
            "0   Ali   25    Delhi   50000\n",
            "1  Sara   30   Mumbai   38000\n",
            "2  John   22  Chennai   42000\n"
          ]
        }
      ]
    },
    {
      "cell_type": "markdown",
      "source": [
        "Step 3 : Update one row [Change age of john to 23]"
      ],
      "metadata": {
        "id": "dWabYMTpOPR7"
      }
    },
    {
      "cell_type": "code",
      "source": [
        "df.loc[df[\"Name\"]==\"John\",\"Age\"]=23\n",
        "print(\"\\n After updating Age of John : \")\n",
        "print(df)"
      ],
      "metadata": {
        "colab": {
          "base_uri": "https://localhost:8080/"
        },
        "id": "Qo02QrxDON8k",
        "outputId": "4634434d-d9b1-41ef-cc13-2413041dce9e"
      },
      "execution_count": 8,
      "outputs": [
        {
          "output_type": "stream",
          "name": "stdout",
          "text": [
            "\n",
            " After updating Age of John : \n",
            "   Name  Age     City  Salary\n",
            "0   Ali   25    Delhi   50000\n",
            "1  Sara   30   Mumbai   38000\n",
            "2  John   23  Chennai   42000\n"
          ]
        }
      ]
    },
    {
      "cell_type": "markdown",
      "source": [
        "Step 4 : delete one Column City"
      ],
      "metadata": {
        "id": "qlZSG_fGO3UE"
      }
    },
    {
      "cell_type": "code",
      "source": [
        "df=df.drop(\"City\",axis=1)\n",
        "print(df)"
      ],
      "metadata": {
        "colab": {
          "base_uri": "https://localhost:8080/"
        },
        "id": "CEhOBZNvO9r6",
        "outputId": "af0b028e-f929-4dee-8cfc-71a66bab325c"
      },
      "execution_count": 11,
      "outputs": [
        {
          "output_type": "stream",
          "name": "stdout",
          "text": [
            "   Name  Age  Salary\n",
            "0   Ali   25   50000\n",
            "1  Sara   30   38000\n",
            "2  John   23   42000\n"
          ]
        }
      ]
    }
  ]
}