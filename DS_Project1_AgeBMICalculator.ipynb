{
  "nbformat": 4,
  "nbformat_minor": 0,
  "metadata": {
    "colab": {
      "provenance": [],
      "authorship_tag": "ABX9TyPblwMM+9hU/knBSv9WvtxW",
      "include_colab_link": true
    },
    "kernelspec": {
      "name": "python3",
      "display_name": "Python 3"
    },
    "language_info": {
      "name": "python"
    }
  },
  "cells": [
    {
      "cell_type": "markdown",
      "metadata": {
        "id": "view-in-github",
        "colab_type": "text"
      },
      "source": [
        "<a href=\"https://colab.research.google.com/github/Safhanafarha775/DataScience-Journey/blob/main/DS_Project1_AgeBMICalculator.ipynb\" target=\"_parent\"><img src=\"https://colab.research.google.com/assets/colab-badge.svg\" alt=\"Open In Colab\"/></a>"
      ]
    },
    {
      "cell_type": "code",
      "execution_count": 1,
      "metadata": {
        "id": "OKWoTbji3kPQ"
      },
      "outputs": [],
      "source": [
        "#Age related BMI Calculator\n",
        "\n",
        "#AGE CALCULATOR\n",
        "\n",
        "from datetime import date\n",
        "\n",
        "def calculate_age(birthdate):\n",
        "    today = date.today()\n",
        "    age = today.year - birthdate.year\n",
        "\n",
        "    # Adjust if birthday hasn't occurred yet this year\n",
        "    if (today.month, today.day) < (birthdate.month, birthdate.day):\n",
        "        age -= 1\n",
        "    return age\n",
        ""
      ]
    },
    {
      "cell_type": "code",
      "source": [
        "#calculating BMI\n",
        "def calculate_bmi(h, w, age):\n",
        "    h_in_m = float(h / 100)\n",
        "    bmi = w / (h_in_m ** 2)   # correct formula\n",
        "\n",
        "    # Check age group\n",
        "    if age >= 20:\n",
        "        # Adult BMI classification\n",
        "        if bmi < 18.5:\n",
        "            status = \"Underweight\"\n",
        "        elif 18.5 <= bmi < 24.9:\n",
        "            status = \"Normal weight\"\n",
        "        elif 24.9 <= bmi < 29.9:\n",
        "            status = \"Overweight\"\n",
        "        else:\n",
        "            status = \"Obese\"\n",
        "    else:\n",
        "        # Children/teen BMI interpretation (simplified)\n",
        "        if bmi < 5:\n",
        "            status = \"Underweight (percentile)\"\n",
        "        elif 5 <= bmi < 85:\n",
        "            status = \"Healthy (percentile)\"\n",
        "        elif 85 <= bmi < 95:\n",
        "            status = \"Overweight (percentile)\"\n",
        "        else:\n",
        "            status = \"Obese (percentile)\"\n",
        "\n",
        "    return bmi, status"
      ],
      "metadata": {
        "id": "3nbHeTX2cEra"
      },
      "execution_count": 2,
      "outputs": []
    },
    {
      "cell_type": "code",
      "source": [
        "# Taking inputs\n",
        "weight = float(input(\"Enter your weight in kgs: \"))\n",
        "height = float(input(\"Enter your height in cms: \"))\n",
        "\n",
        "# Take dob from user\n",
        "dob_input = input(\"Enter your Date of Birth in dd/mm/yyyy format: \")\n",
        "\n",
        "# Split input and convert to integers\n",
        "day, month, year = map(int, dob_input.split('/'))\n",
        "dob = date(year, month, day)\n",
        "\n",
        "age=calculate_age(dob)"
      ],
      "metadata": {
        "colab": {
          "base_uri": "https://localhost:8080/"
        },
        "id": "X0q7e28UcKE4",
        "outputId": "507bf7b0-3a53-4d09-c783-76538e6eed4d"
      },
      "execution_count": 5,
      "outputs": [
        {
          "name": "stdout",
          "output_type": "stream",
          "text": [
            "Enter your weight in kgs: 20\n",
            "Enter your height in cms: 140\n",
            "Enter your Date of Birth in dd/mm/yyyy format: 27/11/2007\n"
          ]
        }
      ]
    },
    {
      "cell_type": "code",
      "source": [
        "bmi, status = calculate_bmi(height, weight, age)\n",
        "\n",
        "print(f\"\\nYour BMI = {bmi:.2f}\")\n",
        "print(f\"Status = {status}\")"
      ],
      "metadata": {
        "colab": {
          "base_uri": "https://localhost:8080/"
        },
        "id": "MHwBH9l6cjsQ",
        "outputId": "56be7c1c-a2e4-42d8-97ac-d17983cc71d4"
      },
      "execution_count": 6,
      "outputs": [
        {
          "output_type": "stream",
          "name": "stdout",
          "text": [
            "\n",
            "Your BMI = 10.20\n",
            "Status = Healthy (percentile)\n"
          ]
        }
      ]
    }
  ]
}